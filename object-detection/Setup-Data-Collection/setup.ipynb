{
  "cells": [
    {
      "cell_type": "markdown",
      "metadata": {
        "id": "view-in-github",
        "colab_type": "text"
      },
      "source": [
        "<a href=\"https://colab.research.google.com/github/mimichen123/dgmd-e17/blob/main/object-detection%20/Setup-Data-Collection/setup.ipynb\" target=\"_parent\"><img src=\"https://colab.research.google.com/assets/colab-badge.svg\" alt=\"Open In Colab\"/></a>"
      ]
    },
    {
      "cell_type": "markdown",
      "metadata": {
        "id": "G_i5LMliAfYX"
      },
      "source": [
        "<iframe width=\"800\" height=\"500\"\n",
        "src=\"https://www.youtube.com/embed/3jD02dxL6gg\"\n",
        "frameborder=\"0\"\n",
        "allow=\"accelerometer; autoplay; encrypted-media; gyroscope; picture-in-picture\"\n",
        "allowfullscreen\n",
        "style=\"margin: auto; display: block\"></iframe>"
      ]
    },
    {
      "cell_type": "code",
      "execution_count": null,
      "metadata": {
        "id": "DBRpZjM9AfYY"
      },
      "outputs": [],
      "source": [
        "%load_ext autoreload\n",
        "%autoreload 2"
      ]
    },
    {
      "cell_type": "code",
      "execution_count": null,
      "metadata": {
        "id": "YKfbbizTAfYY"
      },
      "outputs": [],
      "source": [
        "DATASET_DIR=\"/code/object-detection/assets/duckietown_object_detection_dataset\"\n",
        "IMAGE_SIZE = 416\n",
        "# this is the percentage of real data that will go into the training set (as opposed to the testing set)\n",
        "REAL_TRAIN_TEST_SPLIT_PERCENTAGE = 0.8"
      ]
    },
    {
      "cell_type": "code",
      "execution_count": null,
      "metadata": {
        "id": "xHJyMMfVAfYZ",
        "colab": {
          "base_uri": "https://localhost:8080/",
          "height": 393
        },
        "outputId": "94677637-e22a-4d06-ce76-1c505a773fb3"
      },
      "outputs": [
        {
          "output_type": "error",
          "ename": "ModuleNotFoundError",
          "evalue": "No module named 'utils'",
          "traceback": [
            "\u001b[0;31m---------------------------------------------------------------------------\u001b[0m",
            "\u001b[0;31mModuleNotFoundError\u001b[0m                       Traceback (most recent call last)",
            "\u001b[0;32m<ipython-input-3-c744d7d901ec>\u001b[0m in \u001b[0;36m<cell line: 0>\u001b[0;34m()\u001b[0m\n\u001b[1;32m      1\u001b[0m \u001b[0;31m# Download a dataset of pre-labelled real images.\u001b[0m\u001b[0;34m\u001b[0m\u001b[0;34m\u001b[0m\u001b[0m\n\u001b[0;32m----> 2\u001b[0;31m \u001b[0;32mfrom\u001b[0m \u001b[0mutils\u001b[0m\u001b[0;34m.\u001b[0m\u001b[0mmisc\u001b[0m \u001b[0;32mimport\u001b[0m \u001b[0mrunp\u001b[0m\u001b[0;34m\u001b[0m\u001b[0;34m\u001b[0m\u001b[0m\n\u001b[0m\u001b[1;32m      3\u001b[0m \u001b[0;34m\u001b[0m\u001b[0m\n\u001b[1;32m      4\u001b[0m \u001b[0;31m# download dataset\u001b[0m\u001b[0;34m\u001b[0m\u001b[0;34m\u001b[0m\u001b[0m\n\u001b[1;32m      5\u001b[0m \u001b[0;32mif\u001b[0m \u001b[0;32mnot\u001b[0m \u001b[0mos\u001b[0m\u001b[0;34m.\u001b[0m\u001b[0mpath\u001b[0m\u001b[0;34m.\u001b[0m\u001b[0mexists\u001b[0m\u001b[0;34m(\u001b[0m\u001b[0mDATASET_DIR\u001b[0m\u001b[0;34m)\u001b[0m\u001b[0;34m:\u001b[0m\u001b[0;34m\u001b[0m\u001b[0;34m\u001b[0m\u001b[0m\n",
            "\u001b[0;31mModuleNotFoundError\u001b[0m: No module named 'utils'",
            "",
            "\u001b[0;31m---------------------------------------------------------------------------\u001b[0;32m\nNOTE: If your import is failing due to a missing package, you can\nmanually install dependencies using either !pip or !apt.\n\nTo view examples of installing some common dependencies, click the\n\"Open Examples\" button below.\n\u001b[0;31m---------------------------------------------------------------------------\u001b[0m\n"
          ],
          "errorDetails": {
            "actions": [
              {
                "action": "open_url",
                "actionText": "Open Examples",
                "url": "/notebooks/snippets/importing_libraries.ipynb"
              }
            ]
          }
        }
      ],
      "source": [
        "# Download a dataset of pre-labelled real images.\n",
        "from utils.misc import runp\n",
        "\n",
        "# download dataset\n",
        "if not os.path.exists(DATASET_DIR):\n",
        "    runp(f\"rm -rf {DATASET_DIR}/*\")\n",
        "    runp(f\"mkdir -p {DATASET_DIR}/images\")\n",
        "    runp(f\"mkdir -p {DATASET_DIR}/labels\")\n",
        "    runp(f\"mkdir -p {DATASET_DIR}/train/images\")\n",
        "    runp(f\"mkdir -p {DATASET_DIR}/train/labels\")\n",
        "    runp(f\"mkdir -p {DATASET_DIR}/val/images\")\n",
        "    runp(f\"mkdir -p {DATASET_DIR}/val/labels\")\n",
        "else:\n",
        "    print(\"Folder structure already exists!\")\n",
        "\n",
        "# download dataset\n",
        "if not os.path.exists(f\"{DATASET_DIR}/frames\"):\n",
        "    !wget -O /tmp/dataset.zip https://duckietown-public-storage.s3.amazonaws.com/assets/mooc/2022/duckietown_object_detection_dataset.zip\n",
        "    runp(f\"unzip -q /tmp/dataset.zip -d $(dirname {DATASET_DIR})\")\n",
        "    runp(f\"rm /tmp/dataset.zip\")\n",
        "else:\n",
        "    print(\"Dataset already downloaded!\")"
      ]
    },
    {
      "cell_type": "code",
      "execution_count": null,
      "metadata": {
        "id": "v6ohlmnIAfYZ",
        "colab": {
          "base_uri": "https://localhost:8080/",
          "height": 393
        },
        "outputId": "40b00793-28fb-4dca-ab62-351a88bffb4f"
      },
      "outputs": [
        {
          "output_type": "error",
          "ename": "ModuleNotFoundError",
          "evalue": "No module named 'utils'",
          "traceback": [
            "\u001b[0;31m---------------------------------------------------------------------------\u001b[0m",
            "\u001b[0;31mModuleNotFoundError\u001b[0m                       Traceback (most recent call last)",
            "\u001b[0;32m<ipython-input-4-adafe0df9b36>\u001b[0m in \u001b[0;36m<cell line: 0>\u001b[0;34m()\u001b[0m\n\u001b[1;32m      5\u001b[0m \u001b[0;32mimport\u001b[0m \u001b[0mnumpy\u001b[0m \u001b[0;32mas\u001b[0m \u001b[0mnp\u001b[0m\u001b[0;34m\u001b[0m\u001b[0;34m\u001b[0m\u001b[0m\n\u001b[1;32m      6\u001b[0m \u001b[0;32mfrom\u001b[0m \u001b[0mtqdm\u001b[0m \u001b[0;32mimport\u001b[0m \u001b[0mtqdm\u001b[0m\u001b[0;34m\u001b[0m\u001b[0;34m\u001b[0m\u001b[0m\n\u001b[0;32m----> 7\u001b[0;31m \u001b[0;32mfrom\u001b[0m \u001b[0mutils\u001b[0m\u001b[0;34m.\u001b[0m\u001b[0mmisc\u001b[0m \u001b[0;32mimport\u001b[0m \u001b[0mxminyminxmaxymax2xywfnormalized\u001b[0m\u001b[0;34m,\u001b[0m \u001b[0mtrain_test_split\u001b[0m\u001b[0;34m,\u001b[0m \u001b[0mmakedirs\u001b[0m\u001b[0;34m,\u001b[0m \u001b[0mrunp\u001b[0m\u001b[0;34m\u001b[0m\u001b[0;34m\u001b[0m\u001b[0m\n\u001b[0m\u001b[1;32m      8\u001b[0m \u001b[0;34m\u001b[0m\u001b[0m\n\u001b[1;32m      9\u001b[0m \u001b[0;32mwith\u001b[0m \u001b[0mopen\u001b[0m\u001b[0;34m(\u001b[0m\u001b[0;34mf\"{DATASET_DIR}/annotation/final_anns.json\"\u001b[0m\u001b[0;34m)\u001b[0m \u001b[0;32mas\u001b[0m \u001b[0manns\u001b[0m\u001b[0;34m:\u001b[0m\u001b[0;34m\u001b[0m\u001b[0;34m\u001b[0m\u001b[0m\n",
            "\u001b[0;31mModuleNotFoundError\u001b[0m: No module named 'utils'",
            "",
            "\u001b[0;31m---------------------------------------------------------------------------\u001b[0;32m\nNOTE: If your import is failing due to a missing package, you can\nmanually install dependencies using either !pip or !apt.\n\nTo view examples of installing some common dependencies, click the\n\"Open Examples\" button below.\n\u001b[0;31m---------------------------------------------------------------------------\u001b[0m\n"
          ],
          "errorDetails": {
            "actions": [
              {
                "action": "open_url",
                "actionText": "Open Examples",
                "url": "/notebooks/snippets/importing_libraries.ipynb"
              }
            ]
          }
        }
      ],
      "source": [
        "#resize images and resize assoicatd bounding boxes\n",
        "import json\n",
        "import os\n",
        "import cv2\n",
        "import numpy as np\n",
        "from tqdm import tqdm\n",
        "from utils.misc import xminyminxmaxymax2xywfnormalized, train_test_split, makedirs, runp\n",
        "\n",
        "with open(f\"{DATASET_DIR}/annotation/final_anns.json\") as anns:\n",
        "    annotations = json.load(anns)"
      ]
    },
    {
      "cell_type": "code",
      "execution_count": null,
      "metadata": {
        "id": "q7X9OLSLAfYZ"
      },
      "outputs": [],
      "source": [
        "npz_index = 0\n",
        "\n",
        "all_image_names = []\n",
        "\n",
        "def save_img(img, boxes, classes):\n",
        "    global npz_index\n",
        "    cv2.imwrite(f\"{DATASET_DIR}/images/real_{npz_index}.jpg\", img)\n",
        "    with open(f\"{DATASET_DIR}/labels/real_{npz_index}.txt\", \"w\") as f:\n",
        "        for i in range(len(boxes)):\n",
        "            f.write(f\"{classes[i]} \"+\" \".join(map(str,boxes[i]))+\"\\n\")\n",
        "    npz_index += 1\n",
        "    all_image_names.append(f\"real_{npz_index}\")\n",
        "\n",
        "filenames = tqdm(os.listdir(f\"{DATASET_DIR}/frames\"))\n",
        "for filename in filenames:\n",
        "    img = cv2.imread(f\"{DATASET_DIR}/frames/{filename}\")\n",
        "\n",
        "    orig_y, orig_x = img.shape[0], img.shape[1]\n",
        "    scale_y, scale_x = IMAGE_SIZE/orig_y, IMAGE_SIZE/orig_x\n",
        "\n",
        "    img = cv2.resize(img, (IMAGE_SIZE,IMAGE_SIZE))\n",
        "\n",
        "    boxes = []\n",
        "    classes = []\n",
        "\n",
        "    if filename not in annotations:\n",
        "        continue\n",
        "\n",
        "    for detection in annotations[filename]:\n",
        "        box = detection[\"bbox\"]\n",
        "        label = detection[\"cat_name\"]\n",
        "\n",
        "        if label not in [\"duckie\", \"cone\"]:\n",
        "            continue\n",
        "\n",
        "        orig_x_min, orig_y_min, orig_w, orig_h = box\n",
        "\n",
        "        x_min = int(np.round(orig_x_min * scale_x))\n",
        "        y_min = int(np.round(orig_y_min * scale_y))\n",
        "        x_max = x_min + int(np.round(orig_w * scale_x))\n",
        "        y_max = y_min + int(np.round(orig_h * scale_y))\n",
        "\n",
        "        boxes.append([x_min, y_min, x_max, y_max])\n",
        "        classes.append(1 if label == \"duckie\" else 2)\n",
        "\n",
        "    if len(boxes) == 0:\n",
        "        continue\n",
        "\n",
        "\n",
        "    boxes = np.array([xminyminxmaxymax2xywfnormalized(box, IMAGE_SIZE) for box in boxes])\n",
        "    classes = np.array(classes)-1\n",
        "\n",
        "    save_img(img, boxes, classes)\n",
        "\n",
        "\n",
        "\n",
        "train_test_split(all_image_names, REAL_TRAIN_TEST_SPLIT_PERCENTAGE, DATASET_DIR)"
      ]
    }
  ],
  "metadata": {
    "kernelspec": {
      "display_name": "",
      "language": "python",
      "name": ""
    },
    "language_info": {
      "codemirror_mode": {
        "name": "ipython",
        "version": 3
      },
      "file_extension": ".py",
      "mimetype": "text/x-python",
      "name": "python",
      "nbconvert_exporter": "python",
      "pygments_lexer": "ipython3",
      "version": "3.8.10"
    },
    "vscode": {
      "interpreter": {
        "hash": "916dbcbb3f70747c44a77c7bcd40155683ae19c65e1c03b4aa3499c5328201f1"
      }
    },
    "colab": {
      "provenance": [],
      "include_colab_link": true
    }
  },
  "nbformat": 4,
  "nbformat_minor": 0
}
